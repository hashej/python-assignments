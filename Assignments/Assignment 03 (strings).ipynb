{
 "cells": [
  {
   "cell_type": "markdown",
   "id": "aa337e34-9d21-4eff-bbf1-ad22ab17fdce",
   "metadata": {},
   "source": [
    "# Assignment 03 (strings)"
   ]
  },
  {
   "cell_type": "markdown",
   "id": "d6134bd0-95a5-4011-a04a-66e04cf8060a",
   "metadata": {},
   "source": [
    "1. Write a program that accepts a string from user. Your program should count and display number of\n",
    "vowels in that string.\n",
    "\n"
   ]
  },
  {
   "cell_type": "code",
   "execution_count": 21,
   "id": "e82618b8-34ff-4a25-9ff8-b2922789fbdf",
   "metadata": {},
   "outputs": [
    {
     "name": "stdin",
     "output_type": "stream",
     "text": [
      "Enter any string:  sheharyar\n"
     ]
    },
    {
     "name": "stdout",
     "output_type": "stream",
     "text": [
      "no of vowels 3\n"
     ]
    }
   ],
   "source": [
    "name = input(\"Enter any string: \")\n",
    "vowels=['a','e','i','o','u']\n",
    "for i in range(5):\n",
    "    num=num+name.count(vowels[i])\n",
    "\n",
    "print(\"no of vowels\",num)"
   ]
  },
  {
   "cell_type": "markdown",
   "id": "dc237f19-6301-4066-90ec-8fe5aed91d0a",
   "metadata": {},
   "source": [
    " 2. Write a program that reads a string from keyboard and display:\n",
    "* The number of uppercase letters in the string\n",
    "* The number of lowercase letters in the string\n",
    "* The number of digits in the string\n",
    "* The number of whitespace characters in the string "
   ]
  },
  {
   "cell_type": "code",
   "execution_count": 5,
   "id": "f4f79509-4306-497c-a570-0e1d49fc8273",
   "metadata": {},
   "outputs": [
    {
     "name": "stdin",
     "output_type": "stream",
     "text": [
      "Enter any string:  Sheharyar Jawed 45\n"
     ]
    },
    {
     "name": "stdout",
     "output_type": "stream",
     "text": [
      "The uppercase in the string 2\n",
      "The lowercase in the string 12\n",
      "The digits in the string 2\n",
      "The whitespace in the string 2\n"
     ]
    }
   ],
   "source": [
    "name = input(\"Enter any string: \")\n",
    "uppercase=0\n",
    "lowercase=0\n",
    "digits=0\n",
    "whitespace=0\n",
    "\n",
    "for ch in name:\n",
    "    if ch.isupper():\n",
    "        uppercase+=1\n",
    "    elif ch.islower():\n",
    "        lowercase+=1\n",
    "    elif ch.isdigit():\n",
    "        digits+=1\n",
    "    elif ch.isspace():\n",
    "        whitespace+=1\n",
    "\n",
    "print(\"The uppercase in the string\" ,uppercase)\n",
    "print(\"The lowercase in the string\" ,lowercase)\n",
    "print(\"The digits in the string\" ,digits)\n",
    "print(\"The whitespace in the string\" ,whitespace)"
   ]
  },
  {
   "cell_type": "markdown",
   "id": "05b9a112-659d-4f35-b8d2-d4c29ba3beab",
   "metadata": {},
   "source": [
    "3. Write a Python program that accepts a string from user. Your program should create and display a\n",
    "new string where the first and last characters have been exchanged.\n",
    "For example if the user enters the string 'HELLO' then new string would be 'OELLH'"
   ]
  },
  {
   "cell_type": "code",
   "execution_count": 6,
   "id": "47603b85-ce8b-4206-8249-ad3224389dbb",
   "metadata": {},
   "outputs": [
    {
     "name": "stdin",
     "output_type": "stream",
     "text": [
      "Enter any string:  sheharyar\n"
     ]
    },
    {
     "name": "stdout",
     "output_type": "stream",
     "text": [
      "new text after swappig first character rheharyas\n"
     ]
    }
   ],
   "source": [
    "name = input(\"Enter any string: \")\n",
    "\n",
    "if len(name)>1:\n",
    "    new_text=name[-1]+name[1:-1]+name[0]\n",
    "else:\n",
    "    new_text=name\n",
    "\n",
    "print(\"new text after swappig first character\",new_text)\n",
    "\n"
   ]
  },
  {
   "cell_type": "markdown",
   "id": "90a2f309-f207-48c4-bc8d-db782e83a65d",
   "metadata": {},
   "source": [
    "4. Write a Python program that accepts a string from user. Your program should create a new string in\n",
    "reverse of first string and display it.\n",
    "For example if the user enters the string 'EXAM' then new string would be 'MAXE' "
   ]
  },
  {
   "cell_type": "code",
   "execution_count": 7,
   "id": "0bad9909-da83-495f-a9ae-22b645efae44",
   "metadata": {},
   "outputs": [
    {
     "name": "stdin",
     "output_type": "stream",
     "text": [
      "Enter any string:  sheharyar\n"
     ]
    },
    {
     "name": "stdout",
     "output_type": "stream",
     "text": [
      "The string after reverse is: rayrahehs\n"
     ]
    }
   ],
   "source": [
    "name = input(\"Enter any string: \")\n",
    "new_text = name[::-1]\n",
    "print(\"The string after reverse is:\",new_text)\n"
   ]
  },
  {
   "cell_type": "markdown",
   "id": "e5744072-78f1-46e7-ac4f-b55202269785",
   "metadata": {},
   "source": [
    " 5. Write a Python program that accepts a string from user. Your program should create a new string by\n",
    "shifting one position to left.\n",
    "For example if the user enters the string 'examination 2021' then new string would be 'xamination\n",
    "2021e' \n"
   ]
  },
  {
   "cell_type": "code",
   "execution_count": 9,
   "id": "84a98347-4922-4117-9114-b2b32b6f682f",
   "metadata": {},
   "outputs": [
    {
     "name": "stdin",
     "output_type": "stream",
     "text": [
      "Enter a string:  sheharyar\n"
     ]
    },
    {
     "name": "stdout",
     "output_type": "stream",
     "text": [
      "New string after left shift: heharyars\n"
     ]
    }
   ],
   "source": [
    "text = input(\"Enter a string: \")\n",
    "if len(text) > 0:\n",
    "    new_text = text[1:] + text[0]\n",
    "else:\n",
    "    new_text = text  \n",
    "\n",
    "print(\"New string after left shift:\", new_text)\n"
   ]
  },
  {
   "cell_type": "markdown",
   "id": "c6be7213-e930-4246-83e7-dd41a2d90dc2",
   "metadata": {},
   "source": [
    "6. Write a program that asks the user to input his name and print its initials. Assuming that the user\n",
    "always types first name, middle name and last name and does not include any unnecessary spaces. "
   ]
  },
  {
   "cell_type": "code",
   "execution_count": 15,
   "id": "16ca4645-c875-4293-8830-22b70153ef0d",
   "metadata": {},
   "outputs": [
    {
     "name": "stdin",
     "output_type": "stream",
     "text": [
      "Enter any string:  M.Sheharyaar jawed\n"
     ]
    },
    {
     "name": "stdout",
     "output_type": "stream",
     "text": [
      "Your initials are: MJ\n"
     ]
    }
   ],
   "source": [
    "name = input(\"Enter any string: \")\n",
    "\n",
    "new=name.split()\n",
    "\n",
    "initials=\"\"\n",
    "for parts in new:\n",
    "    initials+=parts[0].upper()\n",
    "    \n",
    "print(\"Your initials are:\", initials)"
   ]
  },
  {
   "cell_type": "markdown",
   "id": "3c4254a0-d80c-4b96-977c-25b77ebc815f",
   "metadata": {},
   "source": [
    "7. A palindrome is a string that reads the same backward as forward. For example, the words dad,\n",
    "madam and radar are all palindromes. Write a programs that determines whether the string is a\n",
    "palindrome.\n",
    "Note: do not use reverse() method "
   ]
  },
  {
   "cell_type": "code",
   "execution_count": 23,
   "id": "96c8fe99-7a90-4718-93ea-7e1449bacda0",
   "metadata": {},
   "outputs": [
    {
     "name": "stdin",
     "output_type": "stream",
     "text": [
      "Enter any string:  radar\n"
     ]
    },
    {
     "name": "stdout",
     "output_type": "stream",
     "text": [
      "The string is a palindrome\n"
     ]
    }
   ],
   "source": [
    "name = input(\"Enter any string: \")\n",
    "\n",
    "name = name.lower()   \n",
    "\n",
    "is_palindrome = True  # \n",
    "\n",
    "for temp in range(len(name)//2):\n",
    "    if name[temp] != name[-(temp+1)]:\n",
    "        is_palindrome = False\n",
    "        break\n",
    "\n",
    "if is_palindrome:\n",
    "    print(\"The string is a palindrome\")\n",
    "else:\n",
    "    print(\"The string is not a palindrome\")\n"
   ]
  },
  {
   "cell_type": "markdown",
   "id": "8c96857a-14ba-444d-b4e0-fd8285bf5f55",
   "metadata": {},
   "source": [
    "8. Write a program that display following output:\n",
    "SHIFT\n",
    "HIFTS\n",
    "IFTSH\n",
    "FTSHI\n",
    "TSHIF\n",
    "SHIFT"
   ]
  },
  {
   "cell_type": "code",
   "execution_count": 37,
   "id": "a5d7714c-67e0-4c11-804c-7b3dfbfb710b",
   "metadata": {},
   "outputs": [
    {
     "name": "stdin",
     "output_type": "stream",
     "text": [
      "Enter a string:  shift\n"
     ]
    },
    {
     "name": "stdout",
     "output_type": "stream",
     "text": [
      "shift\n",
      "hifts\n",
      "iftsh\n",
      "ftshi\n",
      "tshif\n",
      "shift\n"
     ]
    }
   ],
   "source": [
    "text = input(\"Enter a string: \")\n",
    "print(text)\n",
    "for temp in range(1,len(text)):\n",
    "        new_text = text[temp:] + text[:temp]\n",
    "        print(new_text)\n",
    "\n",
    "\n",
    "print(text) \n",
    "\n",
    "\n"
   ]
  },
  {
   "cell_type": "markdown",
   "id": "4794dfe8-233e-43c8-b0e4-6099ed3499e9",
   "metadata": {},
   "source": [
    "9. Write a program in python that accepts a string to setup a passwords. Your entered password must\n",
    "meet the following requirements:\n",
    "The password must be at least eight characters long.\n",
    "It must contain at least one uppercase letter.\n",
    "It must contain at least one lowercase letter.\n",
    "It must contain at least one numeric digit.\n",
    "Your program should should perform this validation. "
   ]
  },
  {
   "cell_type": "code",
   "execution_count": 38,
   "id": "a765ea41-9ad9-4eeb-824e-6efb1e424d8b",
   "metadata": {},
   "outputs": [
    {
     "name": "stdin",
     "output_type": "stream",
     "text": [
      "Enter your password:  Sheharyar12\n"
     ]
    },
    {
     "name": "stdout",
     "output_type": "stream",
     "text": [
      "Password is valid!\n"
     ]
    }
   ],
   "source": [
    "password = input(\"Enter your password: \")\n",
    "if len(password) < 8:\n",
    "    print(\"Password must be at least 8 characters long\")\n",
    "else:\n",
    "    has_upper = False\n",
    "    has_lower = False\n",
    "    has_digit = False\n",
    "\n",
    "    for ch in password:\n",
    "        if ch.isupper():\n",
    "            has_upper = True\n",
    "        elif ch.islower():\n",
    "            has_lower = True\n",
    "        elif ch.isdigit():\n",
    "            has_digit = True\n",
    "\n",
    "    if has_upper and has_lower and has_digit:\n",
    "        print(\"Password is valid!\")\n",
    "    else:\n",
    "        print(\"Password is invalid. It must contain at least one uppercase letter, one lowercase letter, and one digit.\")\n"
   ]
  },
  {
   "cell_type": "code",
   "execution_count": null,
   "id": "16991293-ff39-4825-9413-304a54bd3707",
   "metadata": {},
   "outputs": [],
   "source": []
  }
 ],
 "metadata": {
  "kernelspec": {
   "display_name": "Python 3 (ipykernel)",
   "language": "python",
   "name": "python3"
  },
  "language_info": {
   "codemirror_mode": {
    "name": "ipython",
    "version": 3
   },
   "file_extension": ".py",
   "mimetype": "text/x-python",
   "name": "python",
   "nbconvert_exporter": "python",
   "pygments_lexer": "ipython3",
   "version": "3.9.13"
  }
 },
 "nbformat": 4,
 "nbformat_minor": 5
}
