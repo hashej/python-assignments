{
 "cells": [
  {
   "cell_type": "markdown",
   "id": "e36fe1a9-2ea6-431b-8481-9d2805afb5e3",
   "metadata": {},
   "source": [
    "# List Assignment\n"
   ]
  },
  {
   "cell_type": "markdown",
   "id": "b6d34912-20a5-4cb3-bf06-94b267b2d15e",
   "metadata": {},
   "source": [
    "1. Write a program that accepts a list from user and print the alternate element of list. \n"
   ]
  },
  {
   "cell_type": "code",
   "execution_count": 34,
   "id": "17ced048-8045-4f27-834d-16b10e5d899f",
   "metadata": {},
   "outputs": [
    {
     "name": "stdin",
     "output_type": "stream",
     "text": [
      "Enter a list:  s he e\n"
     ]
    },
    {
     "name": "stdout",
     "output_type": "stream",
     "text": [
      "['s', 'e']\n"
     ]
    }
   ],
   "source": [
    "lst = input(\"Enter a list: \").split()\n",
    "print(lst[::2])"
   ]
  },
  {
   "cell_type": "markdown",
   "id": "8835246f-7b24-4298-9edf-0ab324db64ec",
   "metadata": {},
   "source": [
    "2. Write a program that accepts a list from user. Your program should reverse the content of list and\n",
    "display it. Do not use reverse() method. \n"
   ]
  },
  {
   "cell_type": "code",
   "execution_count": 36,
   "id": "8f2cccd5-04bd-4169-86fc-0e7ac691f998",
   "metadata": {},
   "outputs": [
    {
     "name": "stdin",
     "output_type": "stream",
     "text": [
      "Enter a list:  s h e h a r y a r\n"
     ]
    },
    {
     "name": "stdout",
     "output_type": "stream",
     "text": [
      "['r', 'a', 'y', 'r', 'a', 'h', 'e', 'h', 's']\n"
     ]
    }
   ],
   "source": [
    "lst = input(\"Enter a list: \").split()\n",
    "print(lst[::-1])"
   ]
  },
  {
   "cell_type": "markdown",
   "id": "e7a0bb5c-3c5e-43f8-bc78-230a1a4aaa15",
   "metadata": {},
   "source": [
    "3. Find and display the largest number of a list without using built-in function max(). Your program\n",
    "should ask the user to input values in list from keyboard. \n"
   ]
  },
  {
   "cell_type": "code",
   "execution_count": 52,
   "id": "008a4195-72ca-4f0b-8361-a098e9d04fdb",
   "metadata": {},
   "outputs": [
    {
     "name": "stdin",
     "output_type": "stream",
     "text": [
      "Enter numbers:  3 4 5 6\n"
     ]
    },
    {
     "name": "stdout",
     "output_type": "stream",
     "text": [
      "6\n"
     ]
    }
   ],
   "source": [
    "lst = input(\"Enter numbers: \").split()\n",
    "lst = [int(x) for x in lst]\n",
    "largest=lst[0]\n",
    "for i in lst:\n",
    "    if i > largest:\n",
    "        largest=i\n",
    "    else:\n",
    "        largest=largest\n",
    "\n",
    "print(largest)\n",
    "\n",
    "\n",
    "\n"
   ]
  },
  {
   "cell_type": "markdown",
   "id": "a6e5269f-29f9-45a3-9ce1-a62b0f761b1a",
   "metadata": {},
   "source": [
    "4. Write a program that rotates the element of a list so that the element at the first index moves to the\n",
    "second index, the element in the second index moves to the third index, etc., and the element in the last\n",
    "index moves to the first index."
   ]
  },
  {
   "cell_type": "code",
   "execution_count": 56,
   "id": "1a1b1f59-e8f2-4587-90e8-d9d1c6677568",
   "metadata": {},
   "outputs": [
    {
     "name": "stdin",
     "output_type": "stream",
     "text": [
      "Enter lst:  s h e\n"
     ]
    },
    {
     "data": {
      "text/plain": [
       "['e', 's', 'h']"
      ]
     },
     "execution_count": 56,
     "metadata": {},
     "output_type": "execute_result"
    }
   ],
   "source": [
    "lst = input(\"Enter lst: \").split()\n",
    "lst = [x for x in lst]\n",
    "for temp in range(0,len(lst)):\n",
    "        new_text = lst[temp:] + lst[:temp]\n",
    "        \n",
    "\n",
    "new_text\n"
   ]
  },
  {
   "cell_type": "markdown",
   "id": "fa1b5401-cdb4-446d-a1d4-074c889b116b",
   "metadata": {},
   "source": [
    "5. Write a program that input a string and ask user to delete a given word from a string. \n"
   ]
  },
  {
   "cell_type": "code",
   "execution_count": 71,
   "id": "fd103788-a809-4305-b3a6-7339b2547966",
   "metadata": {},
   "outputs": [
    {
     "name": "stdin",
     "output_type": "stream",
     "text": [
      "Enter lst:  s h e\n",
      "enter the variable you want to delete s\n"
     ]
    },
    {
     "data": {
      "text/plain": [
       "['h', 'e']"
      ]
     },
     "execution_count": 71,
     "metadata": {},
     "output_type": "execute_result"
    }
   ],
   "source": [
    "name = input(\"Enter lst: \").split()\n",
    "rem = input(\"enter the variable you want to delete\")\n",
    "name.remove(rem)\n",
    "\n",
    "name\n",
    "\n"
   ]
  },
  {
   "cell_type": "markdown",
   "id": "1bc44416-f1a7-476c-9802-a15dc2658bfc",
   "metadata": {},
   "source": [
    "6. Write a program that reads a string from the user containing a date in the form mm/dd/yyyy. It\n",
    "should print the date in the form March 12, 2021. \n"
   ]
  },
  {
   "cell_type": "code",
   "execution_count": 76,
   "id": "23f62e09-5af9-4e95-8c9e-53470334e116",
   "metadata": {},
   "outputs": [
    {
     "name": "stdin",
     "output_type": "stream",
     "text": [
      "Enter date in the form of mm/dd/yyyy: 09/09/2004\n"
     ]
    },
    {
     "name": "stdout",
     "output_type": "stream",
     "text": [
      "sep 09 2004\n"
     ]
    }
   ],
   "source": [
    "date = input(\"Enter date in the form of mm/dd/yyyy:\")\n",
    "month,day,year=date.split(\"/\")\n",
    "lst=[\"jan\",\"feb\",\"mar\",\"april\",\"may\",\"june\",\"july\",\"august\",\"sep\",\"oct\",\"nov\",\"dec\"]\n",
    "\n",
    "month_name=lst[int(month)-1]\n",
    "\n",
    "print(month_name,day,year)\n"
   ]
  },
  {
   "cell_type": "markdown",
   "id": "df0f647e-2535-4103-bd19-a7046285fa36",
   "metadata": {},
   "source": [
    "7. Write a program with a function that accepts a string from keyboard and create a new string after\n",
    "converting character of each word capitalized. For instance, if the sentence is \"stop and smell the roses.\"\n",
    "the output should be \"Stop And Smell The Roses\""
   ]
  },
  {
   "cell_type": "code",
   "execution_count": 14,
   "id": "483982e1-2c8e-4673-80b0-c1b2c1ab39da",
   "metadata": {},
   "outputs": [
    {
     "name": "stdin",
     "output_type": "stream",
     "text": [
      "Enter any string:  stop and smell the roses\n"
     ]
    },
    {
     "name": "stdout",
     "output_type": "stream",
     "text": [
      "Your initials are: Stop And Smell The Roses \n"
     ]
    }
   ],
   "source": [
    "name = input(\"Enter any string: \")\n",
    "\n",
    "new=name.split()\n",
    "initials=\"\"\n",
    "for parts in new:\n",
    "    initials+=parts[0].upper()+parts[1:]+\" \"\n",
    "\n",
    "print(\"Your initials are:\", initials)\n"
   ]
  },
  {
   "cell_type": "markdown",
   "id": "bfb76ef1-b468-439d-a046-4af8da60b9e0",
   "metadata": {},
   "source": [
    "8. Find the sum of each row of matrix of size m x n. For example for the following matrix output will be\n",
    "like this :\n",
    " \n",
    "2  11  7  12 \n",
    "5  2   9  15\n",
    "8  3  10  42\n",
    "\n",
    "Sum of row 1 = 32\n",
    "Sum of row 2 = 31\n",
    "Sum of row 3 = 63"
   ]
  },
  {
   "cell_type": "code",
   "execution_count": 30,
   "id": "429b8f6a-c75c-4736-9ea2-11b726bd49fd",
   "metadata": {},
   "outputs": [
    {
     "name": "stdin",
     "output_type": "stream",
     "text": [
      "Enter number of rows:  3\n",
      "Enter number of cols:  4\n",
      "Enter values for row 1:  2 11 7 12\n",
      "Enter values for row 2:  5 2 9 15\n",
      "Enter values for row 3:  8 3 10 42\n"
     ]
    },
    {
     "name": "stdout",
     "output_type": "stream",
     "text": [
      "Sum of row 1: 32\n",
      "Sum of row 2: 31\n",
      "Sum of row 3: 63\n"
     ]
    }
   ],
   "source": [
    "rows = int(input(\"Enter number of rows: \"))\n",
    "cols = int(input(\"Enter number of cols: \"))\n",
    "\n",
    "matrix = []\n",
    "\n",
    "for temp in range(rows):\n",
    "    row_values = input(f\"Enter {cols} values for row {temp+1}: \").split()\n",
    "    row_values = [int(x) for x in row_values]  \n",
    "\n",
    "    while len(row_values) != cols:\n",
    "        print(f\"Error! You must enter exactly {cols} numbers.\")\n",
    "        row_values = input(f\"Enter {cols} values for row {temp+1}: \").split()\n",
    "        row_values = [int(x) for x in row_values]\n",
    "\n",
    "    matrix.append(row_values)\n",
    "\n",
    "for i in range(rows):\n",
    "    print(f\"Sum of row {i+1}:\", sum(matrix[i]))\n"
   ]
  },
  {
   "cell_type": "markdown",
   "id": "5845fa68-5149-49f5-9fff-c4f4d4918820",
   "metadata": {},
   "source": [
    "9. Write a program to add two matrices of size n x m"
   ]
  },
  {
   "cell_type": "code",
   "execution_count": 48,
   "id": "98cf7a69-bd96-48eb-910e-7d02f5052ebc",
   "metadata": {},
   "outputs": [
    {
     "name": "stdin",
     "output_type": "stream",
     "text": [
      "Enter number of rows for matrix 1:  2 \n",
      "Enter number of cols for matrix 1:  3\n",
      "Enter 3 values for row 1:  3 3 3\n",
      "Enter 3 values for row 2:  3 3 3\n",
      "Enter number of rows for matrix 2:  3\n",
      "Enter number of cols for matrix 2:  3\n",
      "Enter 3 values for row 1:  3 33 3\n",
      "Enter 3 values for row 2:  3 33 3 \n",
      "Enter 3 values for row 3:  3 33 3\n"
     ]
    },
    {
     "name": "stdout",
     "output_type": "stream",
     "text": [
      "Matrices must be of the same size to add\n"
     ]
    }
   ],
   "source": [
    "rows1 = int(input(\"Enter number of rows for matrix 1: \"))\n",
    "cols1 = int(input(\"Enter number of cols for matrix 1: \"))\n",
    "matrix1 = []\n",
    "\n",
    "for temp1 in range(rows1):\n",
    "    row_values1 = input(f\"Enter {cols1} values for row {temp1+1}: \").split()\n",
    "    row_values1 = [int(x1) for x1 in row_values1]\n",
    "\n",
    "    while len(row_values1) != cols1:\n",
    "        print(f\"Error! You must enter exactly {cols1} numbers.\")\n",
    "        row_values1 = input(f\"Enter {cols1} values for row {temp1+1}: \").split()\n",
    "        row_values1 = [int(x1) for x1 in row_values1]\n",
    "\n",
    "    matrix1.append(row_values1)\n",
    "\n",
    "rows2 = int(input(\"Enter number of rows for matrix 2: \"))\n",
    "cols2 = int(input(\"Enter number of cols for matrix 2: \"))\n",
    "matrix2 = []\n",
    "\n",
    "for temp2 in range(rows2):\n",
    "    row_values2 = input(f\"Enter {cols2} values for row {temp2+1}: \").split()\n",
    "    row_values2 = [int(x2) for x2 in row_values2]\n",
    "\n",
    "    while len(row_values2) != cols2:\n",
    "        print(f\"Error! You must enter exactly {cols2} numbers.\")\n",
    "        row_values2 = input(f\"Enter {cols2} values for row {temp2+1}: \").split()\n",
    "        row_values2 = [int(x2) for x2 in row_values2]\n",
    "\n",
    "    matrix2.append(row_values2)\n",
    "\n",
    "if rows1 == rows2 and cols1 == cols2:\n",
    "    matrix3 = []  \n",
    "\n",
    "    for i in range(rows1):\n",
    "        new_row = []\n",
    "        for j in range(cols1):\n",
    "            new_row.append(matrix1[i][j] + matrix2[i][j])\n",
    "        matrix3.append(new_row)\n",
    "\n",
    "    print(\"Sum of the matrices:\")\n",
    "    for row in matrix3:\n",
    "        print(row)\n",
    "else:\n",
    "    print(\"Matrices must be of the same size to add\")\n",
    "        \n",
    "\n"
   ]
  },
  {
   "cell_type": "markdown",
   "id": "deb00b16-b7b4-4f13-a357-19b6d39ca056",
   "metadata": {},
   "source": [
    "10. Write a program to multiply two matrices"
   ]
  },
  {
   "cell_type": "code",
   "execution_count": 50,
   "id": "db3a64fe-3c28-4979-bca2-26a1ac629307",
   "metadata": {},
   "outputs": [
    {
     "name": "stdin",
     "output_type": "stream",
     "text": [
      "Enter number of rows for matrix 1:  2\n",
      "Enter number of cols for matrix 1:  2\n",
      "Enter 2 values for row 1:  1 2\n",
      "Enter 2 values for row 2:  3 4\n",
      "Enter number of rows for matrix 2:  2\n",
      "Enter number of cols for matrix 2:  2\n",
      "Enter 2 values for row 1:  5 7\n",
      "Enter 2 values for row 2:  6 8\n"
     ]
    },
    {
     "name": "stdout",
     "output_type": "stream",
     "text": [
      "Result of matrix multiplication:\n",
      "[17, 23]\n",
      "[39, 53]\n"
     ]
    }
   ],
   "source": [
    "rows1 = int(input(\"Enter number of rows for matrix 1: \"))\n",
    "cols1 = int(input(\"Enter number of cols for matrix 1: \"))\n",
    "matrix1 = []\n",
    "\n",
    "for temp1 in range(rows1):\n",
    "    row_values1 = input(f\"Enter {cols1} values for row {temp1+1}: \").split()\n",
    "    row_values1 = [int(x1) for x1 in row_values1]\n",
    "\n",
    "    while len(row_values1) != cols1:\n",
    "        print(f\"Error! You must enter exactly {cols1} numbers.\")\n",
    "        row_values1 = input(f\"Enter {cols1} values for row {temp1+1}: \").split()\n",
    "        row_values1 = [int(x1) for x1 in row_values1]\n",
    "\n",
    "    matrix1.append(row_values1)\n",
    "\n",
    "rows2 = int(input(\"Enter number of rows for matrix 2: \"))\n",
    "cols2 = int(input(\"Enter number of cols for matrix 2: \"))\n",
    "matrix2 = []\n",
    "\n",
    "for temp2 in range(rows2):\n",
    "    row_values2 = input(f\"Enter {cols2} values for row {temp2+1}: \").split()\n",
    "    row_values2 = [int(x2) for x2 in row_values2]\n",
    "\n",
    "    while len(row_values2) != cols2:\n",
    "        print(f\"Error! You must enter exactly {cols2} numbers.\")\n",
    "        row_values2 = input(f\"Enter {cols2} values for row {temp2+1}: \").split()\n",
    "        row_values2 = [int(x2) for x2 in row_values2]\n",
    "\n",
    "    matrix2.append(row_values2)\n",
    "\n",
    "if cols1 != rows2:\n",
    "    print(\"Error! Number of columns of Matrix 1 must equal number of rows of Matrix 2 for multiplication.\")\n",
    "else:\n",
    "    matrix3 = []\n",
    "    for i in range(rows1):\n",
    "        new_row = []\n",
    "        for j in range(cols2):\n",
    "            sum_product = 0\n",
    "            for k in range(cols1):  \n",
    "                sum_product += matrix1[i][k] * matrix2[k][j]\n",
    "            new_row.append(sum_product)\n",
    "        matrix3.append(new_row)\n",
    "\n",
    "    print(\"Result of matrix multiplication:\")\n",
    "    for row in matrix3:\n",
    "        print(row)\n",
    "\n"
   ]
  },
  {
   "cell_type": "code",
   "execution_count": null,
   "id": "908bf3b6-5f7a-4cb1-b3fe-e6a49caec3b0",
   "metadata": {},
   "outputs": [],
   "source": []
  }
 ],
 "metadata": {
  "kernelspec": {
   "display_name": "Python 3 (ipykernel)",
   "language": "python",
   "name": "python3"
  },
  "language_info": {
   "codemirror_mode": {
    "name": "ipython",
    "version": 3
   },
   "file_extension": ".py",
   "mimetype": "text/x-python",
   "name": "python",
   "nbconvert_exporter": "python",
   "pygments_lexer": "ipython3",
   "version": "3.9.13"
  }
 },
 "nbformat": 4,
 "nbformat_minor": 5
}
