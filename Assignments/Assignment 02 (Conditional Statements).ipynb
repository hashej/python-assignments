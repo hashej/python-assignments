{
 "cells": [
  {
   "cell_type": "markdown",
   "metadata": {},
   "source": [
    "# Part -2 Python Basics (Conditional Statements)"
   ]
  },
  {
   "cell_type": "markdown",
   "metadata": {},
   "source": [
    "1) A company decided to give bonus of 5% to employee if his/her year of service is more than 5 years.\n",
    "Ask user for their salary and year of service and print the net bonus amount."
   ]
  },
  {
   "cell_type": "code",
   "execution_count": 23,
   "metadata": {},
   "outputs": [
    {
     "name": "stdin",
     "output_type": "stream",
     "text": [
      "what is your salary: 40000\n",
      "what is your year of service: 7\n"
     ]
    },
    {
     "name": "stdout",
     "output_type": "stream",
     "text": [
      "2000.0\n"
     ]
    }
   ],
   "source": [
    "salary=int(input(\"what is your salary:\"))\n",
    "service=int(input(\"what is your year of service:\"))\n",
    "if(service>5):\n",
    "    net_bonus_amount=(salary*5)/100\n",
    "    print(net_bonus_amount)\n",
    "else:\n",
    "    print(\"you are not eligible\")\n"
   ]
  },
  {
   "cell_type": "markdown",
   "metadata": {},
   "source": [
    "\n",
    "2) Write a program to check whether a person is eligible for voting or not. (accept age from user) if age is greater than 17 eligible otherwise not eligible"
   ]
  },
  {
   "cell_type": "code",
   "execution_count": 26,
   "metadata": {},
   "outputs": [
    {
     "name": "stdin",
     "output_type": "stream",
     "text": [
      "what is your age: 5\n"
     ]
    },
    {
     "name": "stdout",
     "output_type": "stream",
     "text": [
      "you are not eligible\n"
     ]
    }
   ],
   "source": [
    "age=int(input(\"what is your age:\"))\n",
    "if(age>17):\n",
    "    print(\"you are eligible\")\n",
    "else:\n",
    "    print(\"you are not eligible\")"
   ]
  },
  {
   "cell_type": "markdown",
   "metadata": {},
   "source": [
    "\n",
    "3) Write a program to check whether a number entered by user is even or odd."
   ]
  },
  {
   "cell_type": "code",
   "execution_count": 28,
   "metadata": {},
   "outputs": [
    {
     "name": "stdin",
     "output_type": "stream",
     "text": [
      "Enter num to check whether a number is even or odd.: 3\n"
     ]
    },
    {
     "name": "stdout",
     "output_type": "stream",
     "text": [
      "The numer is odd\n"
     ]
    }
   ],
   "source": [
    "num=int(input(\"Enter num to check whether a number is even or odd.:\"))\n",
    "if(num%2==0):\n",
    "    print(\"The numer is even\")\n",
    "else:\n",
    "    print(\"The numer is odd\")"
   ]
  },
  {
   "cell_type": "markdown",
   "metadata": {},
   "source": [
    "4) Write a program to check whether a number is divisible by 7 or not.\n",
    "Show Answer"
   ]
  },
  {
   "cell_type": "code",
   "execution_count": 36,
   "metadata": {},
   "outputs": [
    {
     "name": "stdin",
     "output_type": "stream",
     "text": [
      "Enter num to check whether a number is divisible by 7 or not.: 14\n"
     ]
    },
    {
     "name": "stdout",
     "output_type": "stream",
     "text": [
      "The numer is divisible by 7\n"
     ]
    }
   ],
   "source": [
    "num=int(input(\"Enter num to check whether a number is divisible by 7 or not.:\"))\n",
    "if(num%7==0):\n",
    "    print(\"The numer is divisible by 7\")\n",
    "else:\n",
    "    print(\"The numer is not divisible by 7\")"
   ]
  },
  {
   "cell_type": "markdown",
   "metadata": {},
   "source": [
    "5) Write a program to display \n",
    "\"Hello\" if a number entered by user is a multiple of five , otherwise print \"Bye\"."
   ]
  },
  {
   "cell_type": "code",
   "execution_count": 30,
   "metadata": {},
   "outputs": [
    {
     "name": "stdin",
     "output_type": "stream",
     "text": [
      "Enter num to check whether a number is  multiple of five or not: 32\n"
     ]
    },
    {
     "name": "stdout",
     "output_type": "stream",
     "text": [
      "bye\n"
     ]
    }
   ],
   "source": [
    "num=int(input(\"Enter num to check whether a number is  multiple of five or not:\"))\n",
    "if(num%5==0):\n",
    "    print(\"HELLO\")\n",
    "else:\n",
    "    print(\"bye\")"
   ]
  },
  {
   "cell_type": "markdown",
   "metadata": {},
   "source": [
    "7) Write a program to display the last digit of a number.\n"
   ]
  },
  {
   "cell_type": "code",
   "execution_count": 40,
   "metadata": {},
   "outputs": [
    {
     "name": "stdin",
     "output_type": "stream",
     "text": [
      "Enter a number:  23467890987\n"
     ]
    },
    {
     "name": "stdout",
     "output_type": "stream",
     "text": [
      "Last digit: 7\n"
     ]
    }
   ],
   "source": [
    "num = int(input(\"Enter a number: \"))\n",
    "last_digit = num % 10   \n",
    "print(\"Last digit:\", last_digit)\n"
   ]
  },
  {
   "cell_type": "markdown",
   "metadata": {},
   "source": [
    "9) Take values of length and breadth of a rectangle from user and print if it is square or rectangle."
   ]
  },
  {
   "cell_type": "code",
   "execution_count": 42,
   "metadata": {},
   "outputs": [
    {
     "name": "stdin",
     "output_type": "stream",
     "text": [
      "Enter a length of a rectangle: 20\n",
      "Enter a breadth of a rectangle: 20\n"
     ]
    },
    {
     "name": "stdout",
     "output_type": "stream",
     "text": [
      "It is a square\n"
     ]
    }
   ],
   "source": [
    "rec_len=int(input(\"Enter a length of a rectangle:\"))\n",
    "rec_bre=int(input(\"Enter a breadth of a rectangle:\"))\n",
    "if rec_len == rec_bre:\n",
    "    print(\"It is a square\")\n",
    "else:\n",
    "    print(\"It is a rectangle\")\n"
   ]
  },
  {
   "cell_type": "markdown",
   "metadata": {},
   "source": [
    "10) Take two int values from user and print greatest among them."
   ]
  },
  {
   "cell_type": "code",
   "execution_count": 45,
   "metadata": {},
   "outputs": [
    {
     "name": "stdin",
     "output_type": "stream",
     "text": [
      "Enter number 1:  1000\n",
      "Enter number2:  200\n"
     ]
    },
    {
     "name": "stdout",
     "output_type": "stream",
     "text": [
      "The greatest among num1 and num 2 is: 1000\n"
     ]
    }
   ],
   "source": [
    "num1= int(input(\"Enter number 1: \"))\n",
    "num2 = int(input(\"Enter number2: \"))\n",
    "if(num1>num2):\n",
    "    print(\"The greatest among num1 and num 2 is:\" ,num1 )\n",
    "else:\n",
    "     print(\"The greatest among num1 and num 2 is:\" ,num2)"
   ]
  },
  {
   "cell_type": "markdown",
   "metadata": {},
   "source": [
    "11) A shop will give discount of 10% if the cost of purchased quantity is more than 1000.\n",
    "Ask user for quantity\n",
    "Suppose, one unit will cost 100.\n",
    "Judge and print total cost for user."
   ]
  },
  {
   "cell_type": "code",
   "execution_count": 48,
   "metadata": {},
   "outputs": [
    {
     "name": "stdin",
     "output_type": "stream",
     "text": [
      "what is your quantity:  11\n"
     ]
    },
    {
     "name": "stdout",
     "output_type": "stream",
     "text": [
      "The customer get dicount of rs: 110.0\n"
     ]
    }
   ],
   "source": [
    "quantity= int(input(\"what is your quantity: \"))\n",
    "unit_cost=100\n",
    "pur_quantity=quantity*unit_cost\n",
    "if(pur_quantity>1000):\n",
    "    discount=(pur_quantity*10)/100\n",
    "    print(\"The customer get dicount of rs:\",discount)\n",
    "else:\n",
    "     print(\"customer will not eligible:\")"
   ]
  },
  {
   "cell_type": "markdown",
   "metadata": {},
   "source": [
    "12) A school has following rules for grading system:\n",
    "\n",
    "a. Below 25 - F\n",
    "\n",
    "b. 25 to 45 - E\n",
    "\n",
    "c. 45 to 50 - D\n",
    "\n",
    "d. 50 to 60 - C\n",
    "\n",
    "e. 60 to 80 - B\n",
    "\n",
    "f. Above 80 - A\n",
    "\n",
    "Ask user to enter marks and print the corresponding grade."
   ]
  },
  {
   "cell_type": "code",
   "execution_count": 50,
   "metadata": {},
   "outputs": [
    {
     "name": "stdin",
     "output_type": "stream",
     "text": [
      "Enter your marks:  100\n"
     ]
    },
    {
     "name": "stdout",
     "output_type": "stream",
     "text": [
      "Your Grade is: A\n"
     ]
    }
   ],
   "source": [
    "marks = int(input(\"Enter your marks: \"))\n",
    "if marks < 25:\n",
    "    grade = \"F\"\n",
    "elif marks >= 25 and marks < 45:\n",
    "    grade = \"E\"\n",
    "elif marks >= 45 and marks < 50:\n",
    "    grade = \"D\"\n",
    "elif marks >= 50 and marks < 60:\n",
    "    grade = \"C\"\n",
    "elif marks >= 60 and marks <= 80:\n",
    "    grade = \"B\"\n",
    "else:\n",
    "    grade = \"A\"\n",
    "\n",
    "print(\"Your Grade is:\", grade)"
   ]
  },
  {
   "cell_type": "markdown",
   "metadata": {},
   "source": [
    "14)A student will not be allowed to sit in exam if his/her attendence is less than 75%.\n",
    "\n",
    "Take following input from user\n",
    "\n",
    "- Number of classes held\n",
    "\n",
    "- Number of classes attended.\n",
    "\n",
    "And print\n",
    "\n",
    "- percentage of class attended\n",
    "\n",
    "- Is student is allowed to sit in exam or not.\n"
   ]
  },
  {
   "cell_type": "code",
   "execution_count": 52,
   "metadata": {},
   "outputs": [
    {
     "name": "stdin",
     "output_type": "stream",
     "text": [
      "how many classes are held:  100\n",
      "how many number of classes you attend:  75\n"
     ]
    },
    {
     "name": "stdout",
     "output_type": "stream",
     "text": [
      "student will be allowed to sit in exam\n"
     ]
    }
   ],
   "source": [
    "held = int(input(\"how many classes are held: \"))\n",
    "attended = int(input(\"how many number of classes you attend: \"))\n",
    "per=(attended/held)*100\n",
    "if per<75:\n",
    "    print(\"student will not be allowed to sit in exam\")\n",
    "else:\n",
    "    print(\"student will be allowed to sit in exam\")"
   ]
  },
  {
   "cell_type": "markdown",
   "metadata": {},
   "source": [
    "15) Modify the above question to allow student to sit if he/she has medical cause. Ask user if he/she has medical cause or not ( 'Y' or 'N' ) and print accordingly."
   ]
  },
  {
   "cell_type": "code",
   "execution_count": 58,
   "metadata": {},
   "outputs": [
    {
     "name": "stdin",
     "output_type": "stream",
     "text": [
      "how many classes are held:  100\n",
      "how many number of classes you attend:  50\n",
      "you have any medical cause 'Y' for yes and 'N' for no : N\n"
     ]
    },
    {
     "name": "stdout",
     "output_type": "stream",
     "text": [
      "student will not be allowed to sit in exam\n"
     ]
    }
   ],
   "source": [
    "held = int(input(\"how many classes are held: \"))\n",
    "attended = int(input(\"how many number of classes you attend: \"))\n",
    "medical = input(\"you have any medical cause 'Y' for yes and 'N' for no :\")\n",
    "per=(attended/held)*100\n",
    "if per<75:\n",
    "    if medical==\"Y\":\n",
    "        print(\"student will allow to sit in exam\")\n",
    "    else:\n",
    "        print(\"student will not be allowed to sit in exam\")\n",
    "else:\n",
    "    print(\"student will be allowed to sit in exam\")"
   ]
  },
  {
   "cell_type": "markdown",
   "metadata": {},
   "source": [
    "16) Write a program to check if a year is leap year or not.\n",
    "\n",
    "If a year is divisible by 4 then it is leap year but if the year is century year like 2000, 1900, 2100 then it must be divisible by 400."
   ]
  },
  {
   "cell_type": "code",
   "execution_count": 62,
   "metadata": {},
   "outputs": [
    {
     "name": "stdin",
     "output_type": "stream",
     "text": [
      "what is the year:  2004\n"
     ]
    },
    {
     "name": "stdout",
     "output_type": "stream",
     "text": [
      "This is a leap year\n"
     ]
    }
   ],
   "source": [
    "year = int(input(\"what is the year: \"))\n",
    "cen= year%100\n",
    "if cen==0:\n",
    "    if year%400==0:\n",
    "        print(\"This is a leap year\")\n",
    "    else:\n",
    "        print(\"This is not a leap year\")\n",
    "else:\n",
    "    if year%4==0:\n",
    "        print(\"This is a leap year\")\n",
    "    else:\n",
    "        print(\"This is not a leap\")\n",
    "    \n"
   ]
  },
  {
   "cell_type": "markdown",
   "metadata": {},
   "source": [
    "17) Ask user to enter age, gender ( M or F ), marital status ( Y or N ) and then using following rules print their place of service.\n",
    "\n",
    "if employee is female, then she will work only in urban areas.\n",
    "\n",
    "if employee is a male and age is in between 20 to 40 then he may work in anywhere\n",
    "\n",
    "if employee is male and age is in between 40 t0 60 then he will work in urban areas only.\n",
    "\n",
    "And any other input of age should print \"ERROR\""
   ]
  },
  {
   "cell_type": "code",
   "execution_count": 15,
   "metadata": {},
   "outputs": [
    {
     "name": "stdin",
     "output_type": "stream",
     "text": [
      "what is your age:  100\n",
      "what is your gender 'M' or 'F': M\n",
      "what is your martial status 'Y' or 'N': N\n"
     ]
    },
    {
     "name": "stdout",
     "output_type": "stream",
     "text": [
      "ERROR\n"
     ]
    }
   ],
   "source": [
    "age = int(input(\"what is your age: \"))\n",
    "gender = input(\"what is your gender 'M' or 'F':\")\n",
    "mar_status = input(\"what is your martial status 'Y' or 'N':\")\n",
    "\n",
    "if gender==\"F\":\n",
    "    print(\"She will work only in urban areas\")\n",
    "elif gender==\"M\" and (age>=20 and age<=40):\n",
    "     print(\"Then he may work in anywhere\")\n",
    "elif gender==\"M\" and (age>40 and age<=60):\n",
    "     print(\" He will work in urban areas only.\")\n",
    "elif age<=20 or age>=60:\n",
    "    print(\"ERROR\")\n",
    "\n",
    "    "
   ]
  },
  {
   "cell_type": "markdown",
   "metadata": {},
   "source": [
    "6) Write a program to calculate the electricity bill (accept number of unit from user) according to the following criteria :\n",
    "     Unit                                                     Price  \n",
    "uptp 100 units                                             no charge\n",
    "Next 200 units                                              Rs 5 per unit\n",
    "After 200 units                                             Rs 10 per unit\n",
    "(For example if input unit is 350 than total bill amount is Rs.3500\n",
    "(For example if input unit is 97 than total bill amount is Rs.0\n",
    "(For example if input unit is 150 than total bill amount is Rs.750"
   ]
  },
  {
   "cell_type": "markdown",
   "metadata": {},
   "source": [
    "13) Take input of age of 3 people by user and determine oldest and youngest among them."
   ]
  },
  {
   "cell_type": "code",
   "execution_count": 23,
   "metadata": {},
   "outputs": [
    {
     "name": "stdin",
     "output_type": "stream",
     "text": [
      "How many number of unit you can consume:  97\n"
     ]
    },
    {
     "name": "stdout",
     "output_type": "stream",
     "text": [
      "NO charge\n",
      "The total bill amount is Rs: 0\n"
     ]
    }
   ],
   "source": [
    "n_of_unit = int(input(\"How many number of unit you can consume: \"))\n",
    "\n",
    "if n_of_unit<=100:\n",
    "    print(\"NO charge\")\n",
    "    unit_price=0\n",
    "elif n_of_unit>100 and n_of_unit<=200:\n",
    "    unit_price=n_of_unit*5\n",
    "elif n_of_unit>200:\n",
    "    unit_price=n_of_unit*10\n",
    "\n",
    "print(\"The total bill amount is Rs:\", unit_price)"
   ]
  },
  {
   "cell_type": "code",
   "execution_count": 24,
   "metadata": {},
   "outputs": [
    {
     "name": "stdin",
     "output_type": "stream",
     "text": [
      "Enter age of person 1:  50\n",
      "Enter age of person 2:  60\n",
      "Enter age of person 3:  70\n"
     ]
    },
    {
     "name": "stdout",
     "output_type": "stream",
     "text": [
      "The oldest age is: 70\n",
      "The youngest age is: 50\n"
     ]
    }
   ],
   "source": [
    "age1 = int(input(\"Enter age of person 1: \"))\n",
    "age2 = int(input(\"Enter age of person 2: \"))\n",
    "age3 = int(input(\"Enter age of person 3: \"))\n",
    "\n",
    "oldest = max(age1, age2, age3)\n",
    "youngest = min(age1, age2, age3)\n",
    "\n",
    "print(\"The oldest age is:\", oldest)\n",
    "print(\"The youngest age is:\", youngest)"
   ]
  },
  {
   "cell_type": "code",
   "execution_count": null,
   "metadata": {},
   "outputs": [],
   "source": []
  }
 ],
 "metadata": {
  "kernelspec": {
   "display_name": "Python 3 (ipykernel)",
   "language": "python",
   "name": "python3"
  },
  "language_info": {
   "codemirror_mode": {
    "name": "ipython",
    "version": 3
   },
   "file_extension": ".py",
   "mimetype": "text/x-python",
   "name": "python",
   "nbconvert_exporter": "python",
   "pygments_lexer": "ipython3",
   "version": "3.9.13"
  }
 },
 "nbformat": 4,
 "nbformat_minor": 4
}
