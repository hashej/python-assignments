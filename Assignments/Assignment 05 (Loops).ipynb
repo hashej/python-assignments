{
 "cells": [
  {
   "cell_type": "markdown",
   "id": "ad68e928-2c8a-4bfa-9c97-587d1bb77827",
   "metadata": {},
   "source": [
    "# Looping Structures"
   ]
  },
  {
   "cell_type": "markdown",
   "id": "b75e147b-2097-4534-84d1-906afd64c69d",
   "metadata": {},
   "source": [
    "1. Write a Python program to print the numbers from 1 to 10 using a for loop. "
   ]
  },
  {
   "cell_type": "code",
   "execution_count": 25,
   "id": "04afaba0-7e26-4962-bc30-087eaaeada99",
   "metadata": {},
   "outputs": [
    {
     "name": "stdin",
     "output_type": "stream",
     "text": [
      "how many times: 10\n"
     ]
    },
    {
     "name": "stdout",
     "output_type": "stream",
     "text": [
      "1\n",
      "2\n",
      "3\n",
      "4\n",
      "5\n",
      "6\n",
      "7\n",
      "8\n",
      "9\n",
      "10\n"
     ]
    }
   ],
   "source": [
    "times=int(input(\"how many times:\"))\n",
    "\n",
    "for temp in range(times):\n",
    "    print(temp+1)"
   ]
  },
  {
   "cell_type": "markdown",
   "id": "39105356-fdcf-4225-9d33-97b4c7e05b02",
   "metadata": {},
   "source": [
    "2. Write a Python program to print the numbers from 20 to 1 using a while loop."
   ]
  },
  {
   "cell_type": "code",
   "execution_count": 13,
   "id": "21d85783-20af-4dd0-a28f-57b0e2d1346f",
   "metadata": {},
   "outputs": [
    {
     "name": "stdin",
     "output_type": "stream",
     "text": [
      "how many times: 20\n"
     ]
    },
    {
     "name": "stdout",
     "output_type": "stream",
     "text": [
      "20\n",
      "19\n",
      "18\n",
      "17\n",
      "16\n",
      "15\n",
      "14\n",
      "13\n",
      "12\n",
      "11\n",
      "10\n",
      "9\n",
      "8\n",
      "7\n",
      "6\n",
      "5\n",
      "4\n",
      "3\n",
      "2\n",
      "1\n"
     ]
    }
   ],
   "source": [
    "times=int(input(\"how many times:\"))\n",
    "while times!=0:\n",
    "    print(times)\n",
    "    times-=1"
   ]
  },
  {
   "cell_type": "markdown",
   "id": "c1028d47-2fe7-414d-97dc-8149ead3e4b4",
   "metadata": {},
   "source": [
    " 3. Find and display the largest number of a list without using built-in function max(). Your program\n",
    "should ask the user to input values in list from keyboard"
   ]
  },
  {
   "cell_type": "code",
   "execution_count": 19,
   "id": "fa40468d-0d77-4b0c-9772-1bad594d88e5",
   "metadata": {},
   "outputs": [
    {
     "name": "stdin",
     "output_type": "stream",
     "text": [
      "Enter the number to put in a lst: 10 100 9 3 400\n"
     ]
    },
    {
     "name": "stdout",
     "output_type": "stream",
     "text": [
      "The grater number in the list: 400\n"
     ]
    }
   ],
   "source": [
    "name=input(\"Enter the number to put in a lst:\")\n",
    "lst=[int(temp) for temp in name.split()]\n",
    "for i in lst:\n",
    "    if i > lst[0]:\n",
    "        greater=i\n",
    "    else:\n",
    "      greater=lst[0]\n",
    "\n",
    "print(\"The grater number in the list:\",greater)"
   ]
  },
  {
   "cell_type": "markdown",
   "id": "0aef08c2-345f-4557-88bd-a977877c7d0b",
   "metadata": {},
   "source": [
    "4. Write a program that prompts the user to enter a number n and prints all the\n",
    "numbers from 1 to n. \n"
   ]
  },
  {
   "cell_type": "code",
   "execution_count": 37,
   "id": "0ebc28e4-8345-4bd0-ade2-81cb38e8af7d",
   "metadata": {},
   "outputs": [
    {
     "name": "stdin",
     "output_type": "stream",
     "text": [
      "how many times: 20\n"
     ]
    },
    {
     "name": "stdout",
     "output_type": "stream",
     "text": [
      "1\n",
      "2\n",
      "3\n",
      "4\n",
      "5\n",
      "6\n",
      "7\n",
      "8\n",
      "9\n",
      "10\n",
      "11\n",
      "12\n",
      "13\n",
      "14\n",
      "15\n",
      "16\n",
      "17\n",
      "18\n",
      "19\n",
      "20\n"
     ]
    }
   ],
   "source": [
    "n=int(input(\"how many times:\"))\n",
    "\n",
    "for temp in range(n):\n",
    "    print(temp+1)"
   ]
  },
  {
   "cell_type": "markdown",
   "id": "0439f202-5cc9-41b4-888d-30cb4d77dd53",
   "metadata": {},
   "source": [
    "5. Write a program that prompts the user to enter a number n, and then prints all the\n",
    "odd numbers between 1 and n. \n",
    "\n"
   ]
  },
  {
   "cell_type": "code",
   "execution_count": 40,
   "id": "1d3e36e4-f778-45b2-8905-b205b43043de",
   "metadata": {},
   "outputs": [
    {
     "name": "stdin",
     "output_type": "stream",
     "text": [
      "how many times: 20\n"
     ]
    },
    {
     "name": "stdout",
     "output_type": "stream",
     "text": [
      "2\n",
      "4\n",
      "6\n",
      "8\n",
      "10\n",
      "12\n",
      "14\n",
      "16\n",
      "18\n",
      "20\n"
     ]
    }
   ],
   "source": [
    "n=int(input(\"how many times:\"))\n",
    "\n",
    "for temp in range(n):\n",
    "    if temp%2==1:\n",
    "        print(temp+1)\n",
    "\n",
    "    \n"
   ]
  },
  {
   "cell_type": "markdown",
   "id": "75c1100a-1091-4a3b-ab8e-dbac42d07265",
   "metadata": {},
   "source": [
    "6. Write a program that prints 'Happy Birthday!' five times on screen."
   ]
  },
  {
   "cell_type": "code",
   "execution_count": 45,
   "id": "a4de80f3-7272-4dc3-b22e-a32b8dd38350",
   "metadata": {},
   "outputs": [
    {
     "name": "stdout",
     "output_type": "stream",
     "text": [
      "Happy Birthday\n",
      "Happy Birthday\n",
      "Happy Birthday\n",
      "Happy Birthday\n",
      "Happy Birthday\n"
     ]
    }
   ],
   "source": [
    "for temp in range(5):\n",
    "        print(\"Happy Birthday!\")\n"
   ]
  },
  {
   "cell_type": "markdown",
   "id": "7a83de66-88c5-4a6b-aa3d-abddbbc64061",
   "metadata": {},
   "source": [
    " 7. Write a program that takes a number n as input from the user and generates the first\n",
    "n terms of the series formed by squaring the natural numbers. "
   ]
  },
  {
   "cell_type": "code",
   "execution_count": 46,
   "id": "90610506-3799-4372-a00c-f5828b0ddc43",
   "metadata": {},
   "outputs": [
    {
     "name": "stdin",
     "output_type": "stream",
     "text": [
      "enter the value of n 4\n"
     ]
    },
    {
     "name": "stdout",
     "output_type": "stream",
     "text": [
      "The first 4 term of series are\n",
      "0,1,4,9,"
     ]
    }
   ],
   "source": [
    "n=int(input(\"enter the value of n\")) \n",
    "print(\"The first {} term of series are\".format(n))\n",
    "for temp in range(n):\n",
    "    print((temp)**2,end=\",\")"
   ]
  },
  {
   "cell_type": "markdown",
   "id": "8a29990a-c279-4fa1-ae7c-ecc4d278ad7d",
   "metadata": {},
   "source": [
    "8. Write a program that prompts the user to input a number and prints its multiplication\n",
    "table"
   ]
  },
  {
   "cell_type": "code",
   "execution_count": 49,
   "id": "772c6e9e-fd8a-44ce-a9fb-574459a02aec",
   "metadata": {},
   "outputs": [
    {
     "name": "stdin",
     "output_type": "stream",
     "text": [
      "enter the table 35\n",
      "start the table from number? 1\n",
      "end the table from number? 20\n"
     ]
    },
    {
     "name": "stdout",
     "output_type": "stream",
     "text": [
      "35 x 1 = 35\n",
      "35 x 2 = 70\n",
      "35 x 3 = 105\n",
      "35 x 4 = 140\n",
      "35 x 5 = 175\n",
      "35 x 6 = 210\n",
      "35 x 7 = 245\n",
      "35 x 8 = 280\n",
      "35 x 9 = 315\n",
      "35 x 10 = 350\n",
      "35 x 11 = 385\n",
      "35 x 12 = 420\n",
      "35 x 13 = 455\n",
      "35 x 14 = 490\n",
      "35 x 15 = 525\n",
      "35 x 16 = 560\n",
      "35 x 17 = 595\n",
      "35 x 18 = 630\n",
      "35 x 19 = 665\n",
      "35 x 20 = 700\n"
     ]
    }
   ],
   "source": [
    "n=int(input(\"enter the table\"))\n",
    "start=int(input(\"start the table from number?\"))\n",
    "end=int(input(\"end the table from number?\"))\n",
    "for temp in range(start,end+1):\n",
    "    print(\"{} x {} =\".format(n,temp), n*temp)"
   ]
  },
  {
   "cell_type": "markdown",
   "id": "d4b814e4-66ba-4e06-9bdb-dfb58b643f96",
   "metadata": {},
   "source": [
    "9. Write a Python program to print the first 8 terms of an arithmetic progression starting\n",
    "with 3 and having a common difference of 4.\n",
    "The program should output the following sequence:\n",
    "3 7 11 15 19 23 27 31"
   ]
  },
  {
   "cell_type": "code",
   "execution_count": 54,
   "id": "05e46c6c-bf65-4b9e-bf45-002b588ae87b",
   "metadata": {},
   "outputs": [
    {
     "name": "stdout",
     "output_type": "stream",
     "text": [
      "The first 8 terms of the series are:\n",
      "3 7 11 15 19 23 27 31 "
     ]
    }
   ],
   "source": [
    "start = 3\n",
    "difference = 4\n",
    "n = 8  \n",
    "print(\"The first {} terms of the series are:\".format(n))\n",
    "for i in range(n):\n",
    "    term = start + i * difference\n",
    "    print(term, end=\" \")"
   ]
  },
  {
   "cell_type": "markdown",
   "id": "633cb6d6-fad8-4662-a286-61c204a9e1ba",
   "metadata": {},
   "source": [
    "10. Write a Python program to print the first 6 terms of a geometric sequence starting\n",
    "with 2 and having a common ratio of 3.\n",
    "The program should output the following sequence:\n",
    "2 6 18 54 162 486"
   ]
  },
  {
   "cell_type": "code",
   "execution_count": 58,
   "id": "a75b8f83-8eb9-4f6e-bf66-f64a2fed0de5",
   "metadata": {},
   "outputs": [
    {
     "name": "stdout",
     "output_type": "stream",
     "text": [
      "The first 6 terms of the series are:\n",
      "2 6 18 54 162 486 "
     ]
    }
   ],
   "source": [
    "start = 2       \n",
    "ratio = 3       \n",
    "n = 6          \n",
    "print(\"The first {} terms of the series are:\".format(n))\n",
    "term = start\n",
    "for i in range(n):\n",
    "    print(term, end=\" \")\n",
    "    term *= ratio   \n"
   ]
  },
  {
   "cell_type": "markdown",
   "id": "ab1be4ff-9942-48d8-b1b2-d75844647d68",
   "metadata": {},
   "source": [
    "11. Write a program that asks the user for a positive integer value. The program should\n",
    "calculate the sum of all the integers from 1 up to the number entered. For example, if\n",
    "the user enters 20, the loop will find the sum of 1, 2, 3, 4, ... 20. \n"
   ]
  },
  {
   "cell_type": "code",
   "execution_count": 66,
   "id": "0d0343f7-a5d8-4fe2-9e78-24a6d353d246",
   "metadata": {},
   "outputs": [
    {
     "name": "stdin",
     "output_type": "stream",
     "text": [
      "how many times: 3\n"
     ]
    },
    {
     "name": "stdout",
     "output_type": "stream",
     "text": [
      "The sum of 3 values are: 6\n"
     ]
    }
   ],
   "source": [
    "times=int(input(\"how many times:\"))\n",
    "sum=0\n",
    "for temp in range(times):\n",
    "    sum=sum+(temp+1)\n",
    "\n",
    "print(f\"The sum of {times} values are:\",sum)"
   ]
  },
  {
   "cell_type": "markdown",
   "id": "800b7478-46d2-441a-a561-e00c1bc372b4",
   "metadata": {},
   "source": [
    "12. write a program that takes a positive integer N as input and calculates the sum of\n",
    "the reciprocals of all numbers from 1 up to N. The program should display the final sum. \n",
    "Output of the program should be like:\n",
    "Enter a positive integer: 5\n",
    "The sum of reciprocals from 1 to 5 is: 2.28 "
   ]
  },
  {
   "cell_type": "code",
   "execution_count": 67,
   "id": "30783f5f-6bc0-42a6-9c0a-21677d74a650",
   "metadata": {},
   "outputs": [
    {
     "name": "stdin",
     "output_type": "stream",
     "text": [
      "how many times: 5\n"
     ]
    },
    {
     "name": "stdout",
     "output_type": "stream",
     "text": [
      "The sum of 5 reciprocal values are: 2.283333333333333\n"
     ]
    }
   ],
   "source": [
    "times=int(input(\"how many times:\"))\n",
    "sum=0\n",
    "for temp in range(times):\n",
    "    sum=sum+(1/(temp+1))\n",
    "\n",
    "print(f\"The sum of {times} reciprocal values are:\",sum)"
   ]
  },
  {
   "cell_type": "markdown",
   "id": "c41b0c4d-a402-4bbf-8bae-a380e5da329d",
   "metadata": {},
   "source": [
    "13. Write a program that prompts the user to enter a number and repeats this process 5\n",
    "times. The program should accumulate the numbers entered and then display the final\n",
    "running total.\n",
    "Sample Output:\n",
    "Enter a number: 10\n",
    "Enter a number: 15\n",
    "Enter a number: 35\n",
    "Enter a number: 40\n",
    "Enter a number: 50\n",
    "The final running total is: 150 "
   ]
  },
  {
   "cell_type": "code",
   "execution_count": 69,
   "id": "794253da-e9bd-45d1-89b3-ad37f3e5da8c",
   "metadata": {},
   "outputs": [
    {
     "name": "stdin",
     "output_type": "stream",
     "text": [
      "Enter a number: 10\n",
      "Enter a number: 15\n",
      "Enter a number: 35\n",
      "Enter a number: 40\n",
      "Enter a number: 50\n"
     ]
    },
    {
     "name": "stdout",
     "output_type": "stream",
     "text": [
      "The final runnig total is: 150\n"
     ]
    }
   ],
   "source": [
    "sum=0\n",
    "times=5\n",
    "for temp in range(times):\n",
    "    num=int(input(\"Enter a number:\"))\n",
    "    sum=sum+num\n",
    "\n",
    "print(f\"The final runnig total is:\",sum)"
   ]
  },
  {
   "cell_type": "markdown",
   "id": "e6edc491-eb21-4746-81f3-5cc714b8ae36",
   "metadata": {},
   "source": [
    "14. Write a program that prompts the user to enter a positive integer and calculates its\n",
    "factorial. The factorial of a positive integer 'n' is denoted as 'n!' and is calculated by\n",
    "multiplying all the integers from 1 to 'n' together. For example, the factorial of 5\n",
    "(denoted as 5!) is calculated as 1 x 2 x 3 x 4 x 5.\n",
    "The program should display the factorial value if the input is a positive number, or\n",
    "display a message stating that the factorial does not exist for negative numbers.\n",
    "Additionally, for an input of zero, the program should output that the factorial of 0 is 1. \n"
   ]
  },
  {
   "cell_type": "code",
   "execution_count": 77,
   "id": "c27b9737-3972-4bf0-8b7e-6f3870a1801d",
   "metadata": {},
   "outputs": [
    {
     "name": "stdin",
     "output_type": "stream",
     "text": [
      "Enter a number to find the factorial:  5\n"
     ]
    },
    {
     "name": "stdout",
     "output_type": "stream",
     "text": [
      "The factorial of 5 is: 120\n"
     ]
    }
   ],
   "source": [
    "num = int(input(\"Enter a number to find the factorial: \"))\n",
    "\n",
    "if num < 0:\n",
    "    print(\"Factorial does not exist for negative numbers.\")\n",
    "elif num == 0:\n",
    "    print(\"The factorial of 0 is 1.\")\n",
    "else:\n",
    "    fact = 1\n",
    "    for i in range(1, num+1):   # loop from 1 to num\n",
    "        fact *= i\n",
    "    print(f\"The factorial of {num} is: {fact}\")"
   ]
  },
  {
   "cell_type": "markdown",
   "id": "0eb28508-2a56-499e-be38-e249f40a63df",
   "metadata": {},
   "source": [
    "15. Write a Python program that prompts the user to enter a base number and an\n",
    "exponent, and then calculates the power of the base to the exponent. The program\n",
    "should not use the exponentiation operator (**) or the math.pow() function. The\n",
    "program should handle both positive and negative exponents. "
   ]
  },
  {
   "cell_type": "code",
   "execution_count": 80,
   "id": "b0486a6d-c9be-4d5e-909e-b0fcbc1c4dad",
   "metadata": {},
   "outputs": [
    {
     "name": "stdin",
     "output_type": "stream",
     "text": [
      "Enter the base number:  -1\n",
      "Enter the exponent:  2\n"
     ]
    },
    {
     "name": "stdout",
     "output_type": "stream",
     "text": [
      "-1.0 raised to the power 2 is: 1.0\n"
     ]
    }
   ],
   "source": [
    "base = float(input(\"Enter the base number: \"))\n",
    "exp = int(input(\"Enter the exponent: \"))\n",
    "result = 1\n",
    "if exp > 0:   \n",
    "    for temp in range(exp):\n",
    "        result *= base\n",
    "elif exp < 0:  \n",
    "    for temp1 in range(-exp):\n",
    "        result *= base\n",
    "    result = 1 / result\n",
    "else:  \n",
    "    result = 1\n",
    "\n",
    "print(f\"{base} raised to the power {exp} is: {result}\")"
   ]
  },
  {
   "cell_type": "code",
   "execution_count": null,
   "id": "03436486-e8b3-4761-a3c5-9d4032adb4ec",
   "metadata": {},
   "outputs": [],
   "source": []
  }
 ],
 "metadata": {
  "kernelspec": {
   "display_name": "Python 3 (ipykernel)",
   "language": "python",
   "name": "python3"
  },
  "language_info": {
   "codemirror_mode": {
    "name": "ipython",
    "version": 3
   },
   "file_extension": ".py",
   "mimetype": "text/x-python",
   "name": "python",
   "nbconvert_exporter": "python",
   "pygments_lexer": "ipython3",
   "version": "3.9.13"
  }
 },
 "nbformat": 4,
 "nbformat_minor": 5
}
